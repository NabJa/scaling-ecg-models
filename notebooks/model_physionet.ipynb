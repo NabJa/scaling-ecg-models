{
 "cells": [
  {
   "cell_type": "markdown",
   "id": "3bd9e81f-7e38-466f-823c-92fdb39b0ac0",
   "metadata": {},
   "source": [
    "# Base NN Architectures"
   ]
  },
  {
   "cell_type": "code",
   "execution_count": 1,
   "id": "ae59890c-0678-4a31-95eb-6b3f8def89cc",
   "metadata": {},
   "outputs": [],
   "source": [
    "import torch\n",
    "\n",
    "from scaling.models.resnet import resnet18, resnet50, resnet101, resnext18, resnext50, resnext101\n",
    "from scaling.models.convnext import convnext_mini, convnext_tiny, convnext_small, convnext_base, convnext_large\n",
    "from scaling.models.vit import vit_tiny, vit_small, vit_base, vit_large"
   ]
  },
  {
   "cell_type": "code",
   "execution_count": 2,
   "id": "0f44ffc3-2fb4-4d1f-b634-796a11a893a8",
   "metadata": {},
   "outputs": [],
   "source": [
    "def count_params(model):\n",
    "    return sum([x.numel() for x in model.parameters() if x.requires_grad])\n",
    "\n",
    "def test_models(*models):\n",
    "    \"\"\"Print model size and runs it on test input.\"\"\"\n",
    "    for model_fn in models:\n",
    "        model = model_fn()\n",
    "        params = count_params(model)\n",
    "        print(f\"{model_fn.__name__} params: \\t {params:,}\")\n",
    "        with torch.no_grad():\n",
    "            _ = model(torch.rand(1, 12, 992))"
   ]
  },
  {
   "cell_type": "code",
   "execution_count": 3,
   "id": "3bf14f07-6da0-46ef-ac64-1bf967fb4516",
   "metadata": {},
   "outputs": [
    {
     "name": "stdout",
     "output_type": "stream",
     "text": [
      "resnet18 params: \t 3,862,170\n",
      "resnet50 params: \t 16,012,442\n",
      "resnet101 params: \t 28,319,898\n"
     ]
    }
   ],
   "source": [
    "# ResNet\n",
    "test_models(resnet18, resnet50, resnet101)"
   ]
  },
  {
   "cell_type": "code",
   "execution_count": 4,
   "id": "eac72977-df6e-4071-9475-c54340c9f027",
   "metadata": {},
   "outputs": [
    {
     "name": "stdout",
     "output_type": "stream",
     "text": [
      "resnext18 params: \t 12,867,482\n",
      "resnext50 params: \t 22,086,042\n",
      "resnext101 params: \t 79,676,826\n"
     ]
    }
   ],
   "source": [
    "# ResNeXt\n",
    "test_models(resnext18, resnext50, resnext101)"
   ]
  },
  {
   "cell_type": "code",
   "execution_count": 5,
   "id": "54981547-27ae-491e-8356-78ea942d8c9d",
   "metadata": {},
   "outputs": [
    {
     "name": "stdout",
     "output_type": "stream",
     "text": [
      "convnext_mini params: \t 13,383,098\n",
      "convnext_tiny params: \t 26,787,770\n",
      "convnext_small params: \t 48,132,026\n",
      "convnext_base params: \t 85,458,842\n",
      "convnext_large params: \t 192,036,698\n"
     ]
    }
   ],
   "source": [
    "# ConvNeXt\n",
    "test_models(convnext_mini, convnext_tiny, convnext_small, convnext_base, convnext_large)"
   ]
  },
  {
   "cell_type": "code",
   "execution_count": 6,
   "id": "ac41ba12-acb7-4e8a-b231-12e7a60aab22",
   "metadata": {},
   "outputs": [
    {
     "name": "stdout",
     "output_type": "stream",
     "text": [
      "No GPU detected, using math or mem efficient attention\n",
      "vit_tiny params: \t 6,421,834\n",
      "vit_small params: \t 25,441,114\n",
      "vit_base params: \t 85,430,186\n",
      "vit_large params: \t 302,982,298\n"
     ]
    }
   ],
   "source": [
    "# ViTs\n",
    "test_models(vit_tiny, vit_small, vit_base, vit_large)"
   ]
  },
  {
   "cell_type": "code",
   "execution_count": null,
   "id": "f7df9c34-47d0-48e5-bbba-dc57f0257544",
   "metadata": {},
   "outputs": [],
   "source": []
  }
 ],
 "metadata": {
  "kernelspec": {
   "display_name": "Python [conda env:.conda-ecg]",
   "language": "python",
   "name": "conda-env-.conda-ecg-py"
  },
  "language_info": {
   "codemirror_mode": {
    "name": "ipython",
    "version": 3
   },
   "file_extension": ".py",
   "mimetype": "text/x-python",
   "name": "python",
   "nbconvert_exporter": "python",
   "pygments_lexer": "ipython3",
   "version": "3.12.7"
  }
 },
 "nbformat": 4,
 "nbformat_minor": 5
}
